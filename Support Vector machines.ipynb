{
 "cells": [
  {
   "cell_type": "code",
   "execution_count": null,
   "metadata": {},
   "outputs": [],
   "source": [
    "A Support vector machine or SVM is a very powerful  and versatile machine learning model,\n",
    "capable of performing linear or non-linear classification,regression and even outllier detection."
   ]
  },
  {
   "cell_type": "code",
   "execution_count": null,
   "metadata": {},
   "outputs": [],
   "source": [
    "support|vector|machine\n",
    "support : sehyog or aadhar ,basis of some claim.\n",
    "vector : one dimensional mathematical structure\n",
    "machine : anything that reduces human effort.\n",
    "SVM is a deterministic model based algorithm."
   ]
  },
  {
   "cell_type": "code",
   "execution_count": null,
   "metadata": {},
   "outputs": [],
   "source": [
    "Assumptions:\n",
    "Data should be linearly seperable .Linearly seperable means that there exist a hyperplane(line) that can\n",
    "clearly divide both the classes in the given dimension.\n",
    "To understand SVM, hume hyperplane samjhna hoga.\n",
    "In n-dimensional space,there exists a flat affine subspace of n-1 dimension that can divide the original space\n",
    "into two parts."
   ]
  },
  {
   "cell_type": "code",
   "execution_count": null,
   "metadata": {},
   "outputs": [],
   "source": [
    "SVM : SVM algorithm works for linearly seperable datasets and attempts to find the optimaal\n",
    "    hyperplane for seperation of the two classes, Once the hyperplane is deduced , it ca \n",
    "    be used for future predictions."
   ]
  }
 ],
 "metadata": {
  "kernelspec": {
   "display_name": "Python 3",
   "language": "python",
   "name": "python3"
  },
  "language_info": {
   "codemirror_mode": {
    "name": "ipython",
    "version": 3
   },
   "file_extension": ".py",
   "mimetype": "text/x-python",
   "name": "python",
   "nbconvert_exporter": "python",
   "pygments_lexer": "ipython3",
   "version": "3.7.1"
  }
 },
 "nbformat": 4,
 "nbformat_minor": 2
}
