{
 "cells": [
  {
   "cell_type": "code",
   "execution_count": null,
   "metadata": {},
   "outputs": [],
   "source": [
    "In classification,\n",
    "only score is not enough to find how well your  model is working."
   ]
  },
  {
   "cell_type": "code",
   "execution_count": null,
   "metadata": {},
   "outputs": [],
   "source": [
    "Noida city \n",
    "10,000 ---- Do you have cancer?\n",
    "yes- 400-500\n",
    "No-  9500 - 9600\n",
    "This type of dataset is known as \"imbalance Datasets\"\n",
    "\"churn Prediction\" -- you have to find out which customers are most likely to churn\n",
    "leave or cease the company.\n",
    "1,00,000 --- leave - 1%\n",
    "             Not leave "
   ]
  },
  {
   "cell_type": "code",
   "execution_count": null,
   "metadata": {},
   "outputs": [],
   "source": [
    "The technique to solve these kinds of issues , or to deal with imbalance dataset is known as \n",
    "Sampling.\n",
    "1.DownSampling\n",
    "2.Upsampling\n",
    "3. Extrapolation -- \n",
    "we assign weights to our minority samples and majority samples.\n",
    "Boosting : Ensemble Machine Learning Technique\n",
    "XGBoost -- \n",
    "{1:9}\n",
    "for -ve points weight = 9\n",
    "for +ve points weight = 1.\n",
    "    "
   ]
  },
  {
   "cell_type": "code",
   "execution_count": null,
   "metadata": {},
   "outputs": [],
   "source": [
    "Accuracy Metrics : we can check accuracy the accuracy of our classification problems:\n",
    "1. Confusion Matrix\n",
    "2. Classification report\n",
    "        "
   ]
  },
  {
   "cell_type": "code",
   "execution_count": null,
   "metadata": {},
   "outputs": [],
   "source": [
    "1. Confusion matrix:\n",
    "Confusion matrix is a table that is often used to describe the performance of a classification model on a\n",
    "data for which true values are known.\n",
    "It is a summary of prediction result\n",
    "It gives us insights of not only into te errors being made by a classifier but more importantly what \n",
    "types of error being made."
   ]
  }
 ],
 "metadata": {
  "kernelspec": {
   "display_name": "Python 3",
   "language": "python",
   "name": "python3"
  },
  "language_info": {
   "codemirror_mode": {
    "name": "ipython",
    "version": 3
   },
   "file_extension": ".py",
   "mimetype": "text/x-python",
   "name": "python",
   "nbconvert_exporter": "python",
   "pygments_lexer": "ipython3",
   "version": "3.7.1"
  }
 },
 "nbformat": 4,
 "nbformat_minor": 2
}
